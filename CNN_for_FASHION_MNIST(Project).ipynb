{
  "nbformat": 4,
  "nbformat_minor": 0,
  "metadata": {
    "colab": {
      "name": "TF2.1 CNN for FASHION MNIST(Project).ipynb",
      "provenance": [],
      "toc_visible": true,
      "authorship_tag": "ABX9TyM3Q+AIW5FwStnAQk7tmwLN",
      "include_colab_link": true
    },
    "kernelspec": {
      "name": "python3",
      "display_name": "Python 3"
    }
  },
  "cells": [
    {
      "cell_type": "markdown",
      "metadata": {
        "id": "view-in-github",
        "colab_type": "text"
      },
      "source": [
        "<a href=\"https://colab.research.google.com/github/saadkiet/CNN-for-FASHION-MNIST-Project-/blob/master/CNN_for_FASHION_MNIST(Project).ipynb\" target=\"_parent\"><img src=\"https://colab.research.google.com/assets/colab-badge.svg\" alt=\"Open In Colab\"/></a>"
      ]
    },
    {
      "cell_type": "markdown",
      "metadata": {
        "id": "J2APErCTX1dY",
        "colab_type": "text"
      },
      "source": [
        "# Step 1 : Setup and Installation"
      ]
    },
    {
      "cell_type": "code",
      "metadata": {
        "id": "Yg5GuhgjP_iR",
        "colab_type": "code",
        "outputId": "1b387e87-e45c-4f08-c752-1346233c8fe1",
        "colab": {
          "base_uri": "https://localhost:8080/",
          "height": 1000
        }
      },
      "source": [
        "pip install tensorflow-gpu"
      ],
      "execution_count": 0,
      "outputs": [
        {
          "output_type": "stream",
          "text": [
            "Collecting tensorflow-gpu\n",
            "\u001b[?25l  Downloading https://files.pythonhosted.org/packages/0a/93/c7bca39b23aae45cd2e85ad3871c81eccc63b9c5276e926511e2e5b0879d/tensorflow_gpu-2.1.0-cp36-cp36m-manylinux2010_x86_64.whl (421.8MB)\n",
            "\u001b[K     |████████████████████████████████| 421.8MB 36kB/s \n",
            "\u001b[?25hRequirement already satisfied: google-pasta>=0.1.6 in /usr/local/lib/python3.6/dist-packages (from tensorflow-gpu) (0.2.0)\n",
            "Requirement already satisfied: protobuf>=3.8.0 in /usr/local/lib/python3.6/dist-packages (from tensorflow-gpu) (3.10.0)\n",
            "Requirement already satisfied: absl-py>=0.7.0 in /usr/local/lib/python3.6/dist-packages (from tensorflow-gpu) (0.9.0)\n",
            "Requirement already satisfied: keras-preprocessing>=1.1.0 in /usr/local/lib/python3.6/dist-packages (from tensorflow-gpu) (1.1.0)\n",
            "Requirement already satisfied: scipy==1.4.1; python_version >= \"3\" in /usr/local/lib/python3.6/dist-packages (from tensorflow-gpu) (1.4.1)\n",
            "Requirement already satisfied: numpy<2.0,>=1.16.0 in /usr/local/lib/python3.6/dist-packages (from tensorflow-gpu) (1.18.2)\n",
            "Requirement already satisfied: astor>=0.6.0 in /usr/local/lib/python3.6/dist-packages (from tensorflow-gpu) (0.8.1)\n",
            "Requirement already satisfied: wrapt>=1.11.1 in /usr/local/lib/python3.6/dist-packages (from tensorflow-gpu) (1.12.1)\n",
            "Collecting tensorboard<2.2.0,>=2.1.0\n",
            "\u001b[?25l  Downloading https://files.pythonhosted.org/packages/d9/41/bbf49b61370e4f4d245d4c6051dfb6db80cec672605c91b1652ac8cc3d38/tensorboard-2.1.1-py3-none-any.whl (3.8MB)\n",
            "\u001b[K     |████████████████████████████████| 3.9MB 38.8MB/s \n",
            "\u001b[?25hRequirement already satisfied: six>=1.12.0 in /usr/local/lib/python3.6/dist-packages (from tensorflow-gpu) (1.12.0)\n",
            "Requirement already satisfied: opt-einsum>=2.3.2 in /usr/local/lib/python3.6/dist-packages (from tensorflow-gpu) (3.2.0)\n",
            "Collecting tensorflow-estimator<2.2.0,>=2.1.0rc0\n",
            "\u001b[?25l  Downloading https://files.pythonhosted.org/packages/18/90/b77c328a1304437ab1310b463e533fa7689f4bfc41549593056d812fab8e/tensorflow_estimator-2.1.0-py2.py3-none-any.whl (448kB)\n",
            "\u001b[K     |████████████████████████████████| 450kB 49.5MB/s \n",
            "\u001b[?25hRequirement already satisfied: grpcio>=1.8.6 in /usr/local/lib/python3.6/dist-packages (from tensorflow-gpu) (1.28.1)\n",
            "Collecting gast==0.2.2\n",
            "  Downloading https://files.pythonhosted.org/packages/4e/35/11749bf99b2d4e3cceb4d55ca22590b0d7c2c62b9de38ac4a4a7f4687421/gast-0.2.2.tar.gz\n",
            "Requirement already satisfied: wheel>=0.26; python_version >= \"3\" in /usr/local/lib/python3.6/dist-packages (from tensorflow-gpu) (0.34.2)\n",
            "Requirement already satisfied: termcolor>=1.1.0 in /usr/local/lib/python3.6/dist-packages (from tensorflow-gpu) (1.1.0)\n",
            "Requirement already satisfied: keras-applications>=1.0.8 in /usr/local/lib/python3.6/dist-packages (from tensorflow-gpu) (1.0.8)\n",
            "Requirement already satisfied: setuptools in /usr/local/lib/python3.6/dist-packages (from protobuf>=3.8.0->tensorflow-gpu) (46.1.3)\n",
            "Requirement already satisfied: requests<3,>=2.21.0 in /usr/local/lib/python3.6/dist-packages (from tensorboard<2.2.0,>=2.1.0->tensorflow-gpu) (2.21.0)\n",
            "Requirement already satisfied: google-auth<2,>=1.6.3 in /usr/local/lib/python3.6/dist-packages (from tensorboard<2.2.0,>=2.1.0->tensorflow-gpu) (1.7.2)\n",
            "Requirement already satisfied: markdown>=2.6.8 in /usr/local/lib/python3.6/dist-packages (from tensorboard<2.2.0,>=2.1.0->tensorflow-gpu) (3.2.1)\n",
            "Requirement already satisfied: google-auth-oauthlib<0.5,>=0.4.1 in /usr/local/lib/python3.6/dist-packages (from tensorboard<2.2.0,>=2.1.0->tensorflow-gpu) (0.4.1)\n",
            "Requirement already satisfied: werkzeug>=0.11.15 in /usr/local/lib/python3.6/dist-packages (from tensorboard<2.2.0,>=2.1.0->tensorflow-gpu) (1.0.1)\n",
            "Requirement already satisfied: h5py in /usr/local/lib/python3.6/dist-packages (from keras-applications>=1.0.8->tensorflow-gpu) (2.10.0)\n",
            "Requirement already satisfied: idna<2.9,>=2.5 in /usr/local/lib/python3.6/dist-packages (from requests<3,>=2.21.0->tensorboard<2.2.0,>=2.1.0->tensorflow-gpu) (2.8)\n",
            "Requirement already satisfied: chardet<3.1.0,>=3.0.2 in /usr/local/lib/python3.6/dist-packages (from requests<3,>=2.21.0->tensorboard<2.2.0,>=2.1.0->tensorflow-gpu) (3.0.4)\n",
            "Requirement already satisfied: urllib3<1.25,>=1.21.1 in /usr/local/lib/python3.6/dist-packages (from requests<3,>=2.21.0->tensorboard<2.2.0,>=2.1.0->tensorflow-gpu) (1.24.3)\n",
            "Requirement already satisfied: certifi>=2017.4.17 in /usr/local/lib/python3.6/dist-packages (from requests<3,>=2.21.0->tensorboard<2.2.0,>=2.1.0->tensorflow-gpu) (2020.4.5.1)\n",
            "Requirement already satisfied: cachetools<3.2,>=2.0.0 in /usr/local/lib/python3.6/dist-packages (from google-auth<2,>=1.6.3->tensorboard<2.2.0,>=2.1.0->tensorflow-gpu) (3.1.1)\n",
            "Requirement already satisfied: rsa<4.1,>=3.1.4 in /usr/local/lib/python3.6/dist-packages (from google-auth<2,>=1.6.3->tensorboard<2.2.0,>=2.1.0->tensorflow-gpu) (4.0)\n",
            "Requirement already satisfied: pyasn1-modules>=0.2.1 in /usr/local/lib/python3.6/dist-packages (from google-auth<2,>=1.6.3->tensorboard<2.2.0,>=2.1.0->tensorflow-gpu) (0.2.8)\n",
            "Requirement already satisfied: requests-oauthlib>=0.7.0 in /usr/local/lib/python3.6/dist-packages (from google-auth-oauthlib<0.5,>=0.4.1->tensorboard<2.2.0,>=2.1.0->tensorflow-gpu) (1.3.0)\n",
            "Requirement already satisfied: pyasn1>=0.1.3 in /usr/local/lib/python3.6/dist-packages (from rsa<4.1,>=3.1.4->google-auth<2,>=1.6.3->tensorboard<2.2.0,>=2.1.0->tensorflow-gpu) (0.4.8)\n",
            "Requirement already satisfied: oauthlib>=3.0.0 in /usr/local/lib/python3.6/dist-packages (from requests-oauthlib>=0.7.0->google-auth-oauthlib<0.5,>=0.4.1->tensorboard<2.2.0,>=2.1.0->tensorflow-gpu) (3.1.0)\n",
            "Building wheels for collected packages: gast\n",
            "  Building wheel for gast (setup.py) ... \u001b[?25l\u001b[?25hdone\n",
            "  Created wheel for gast: filename=gast-0.2.2-cp36-none-any.whl size=7540 sha256=92428c6e7cde922f4e2d2fda2084697a28a887691e35ba2523229c9954ac37b0\n",
            "  Stored in directory: /root/.cache/pip/wheels/5c/2e/7e/a1d4d4fcebe6c381f378ce7743a3ced3699feb89bcfbdadadd\n",
            "Successfully built gast\n",
            "\u001b[31mERROR: tensorflow 2.2.0rc3 has requirement gast==0.3.3, but you'll have gast 0.2.2 which is incompatible.\u001b[0m\n",
            "\u001b[31mERROR: tensorflow 2.2.0rc3 has requirement tensorboard<2.3.0,>=2.2.0, but you'll have tensorboard 2.1.1 which is incompatible.\u001b[0m\n",
            "\u001b[31mERROR: tensorflow 2.2.0rc3 has requirement tensorflow-estimator<2.3.0,>=2.2.0rc0, but you'll have tensorflow-estimator 2.1.0 which is incompatible.\u001b[0m\n",
            "Installing collected packages: tensorboard, tensorflow-estimator, gast, tensorflow-gpu\n",
            "  Found existing installation: tensorboard 2.2.0\n",
            "    Uninstalling tensorboard-2.2.0:\n",
            "      Successfully uninstalled tensorboard-2.2.0\n",
            "  Found existing installation: tensorflow-estimator 2.2.0rc0\n",
            "    Uninstalling tensorflow-estimator-2.2.0rc0:\n",
            "      Successfully uninstalled tensorflow-estimator-2.2.0rc0\n",
            "  Found existing installation: gast 0.3.3\n",
            "    Uninstalling gast-0.3.3:\n",
            "      Successfully uninstalled gast-0.3.3\n",
            "Successfully installed gast-0.2.2 tensorboard-2.1.1 tensorflow-estimator-2.1.0 tensorflow-gpu-2.1.0\n"
          ],
          "name": "stdout"
        }
      ]
    },
    {
      "cell_type": "code",
      "metadata": {
        "id": "q9nkvgO9STL3",
        "colab_type": "code",
        "colab": {}
      },
      "source": [
        "import tensorflow as tf\n",
        "import pandas as pd\n",
        "import numpy as np\n",
        "import matplotlib.pyplot as plt\n",
        "from tensorflow.keras.models import Model"
      ],
      "execution_count": 0,
      "outputs": []
    },
    {
      "cell_type": "code",
      "metadata": {
        "id": "lqU5B46sStpY",
        "colab_type": "code",
        "colab": {}
      },
      "source": [
        "from tensorflow.keras.layers import Input, Conv2D, Dense, Flatten, Dropout"
      ],
      "execution_count": 0,
      "outputs": []
    },
    {
      "cell_type": "code",
      "metadata": {
        "id": "OCKPa9n-TBCU",
        "colab_type": "code",
        "outputId": "2e2034aa-e4d4-440d-d80e-4a7310b6c237",
        "colab": {
          "base_uri": "https://localhost:8080/",
          "height": 34
        }
      },
      "source": [
        "print(tf.__version__)"
      ],
      "execution_count": 0,
      "outputs": [
        {
          "output_type": "stream",
          "text": [
            "2.1.0\n"
          ],
          "name": "stdout"
        }
      ]
    },
    {
      "cell_type": "markdown",
      "metadata": {
        "id": "bQfHr3ekX-ke",
        "colab_type": "text"
      },
      "source": [
        "# Step 2 : Loading Fashion_Mnist dataset"
      ]
    },
    {
      "cell_type": "code",
      "metadata": {
        "id": "pUGqXcnaTPZJ",
        "colab_type": "code",
        "colab": {}
      },
      "source": [
        "from tensorflow.keras.datasets import fashion_mnist"
      ],
      "execution_count": 0,
      "outputs": []
    },
    {
      "cell_type": "code",
      "metadata": {
        "id": "5526n22yTDI4",
        "colab_type": "code",
        "outputId": "2d2bae7d-c6f0-4710-85e6-96377835259a",
        "colab": {
          "base_uri": "https://localhost:8080/",
          "height": 153
        }
      },
      "source": [
        "(xtrain,ytrain),(xtest,ytest)=fashion_mnist.load_data()"
      ],
      "execution_count": 0,
      "outputs": [
        {
          "output_type": "stream",
          "text": [
            "Downloading data from https://storage.googleapis.com/tensorflow/tf-keras-datasets/train-labels-idx1-ubyte.gz\n",
            "32768/29515 [=================================] - 0s 0us/step\n",
            "Downloading data from https://storage.googleapis.com/tensorflow/tf-keras-datasets/train-images-idx3-ubyte.gz\n",
            "26427392/26421880 [==============================] - 0s 0us/step\n",
            "Downloading data from https://storage.googleapis.com/tensorflow/tf-keras-datasets/t10k-labels-idx1-ubyte.gz\n",
            "8192/5148 [===============================================] - 0s 0us/step\n",
            "Downloading data from https://storage.googleapis.com/tensorflow/tf-keras-datasets/t10k-images-idx3-ubyte.gz\n",
            "4423680/4422102 [==============================] - 0s 0us/step\n"
          ],
          "name": "stdout"
        }
      ]
    },
    {
      "cell_type": "code",
      "metadata": {
        "id": "UggWBHcTT4TJ",
        "colab_type": "code",
        "outputId": "5c406ab3-763b-4b6f-db35-1e05363b820e",
        "colab": {
          "base_uri": "https://localhost:8080/",
          "height": 34
        }
      },
      "source": [
        "class_names = ['0 Top/T-shirt', '1 Trouser', '2 Pullover', '3 Dress', '4 Coat', '5 Sandal', '6 Shirt', '7 Sneaker', '8 Bag', '9 Ankle boot']\n",
        "print(class_names)"
      ],
      "execution_count": 0,
      "outputs": [
        {
          "output_type": "stream",
          "text": [
            "['0 Top/T-shirt', '1 Trouser', '2 Pullover', '3 Dress', '4 Coat', '5 Sandal', '6 Shirt', '7 Sneaker', '8 Bag', '9 Ankle boot']\n"
          ],
          "name": "stdout"
        }
      ]
    },
    {
      "cell_type": "code",
      "metadata": {
        "id": "zt7qiAhPTccF",
        "colab_type": "code",
        "colab": {}
      },
      "source": [
        "xtrain,xtest=xtrain/255,xtest/255"
      ],
      "execution_count": 0,
      "outputs": []
    },
    {
      "cell_type": "code",
      "metadata": {
        "id": "2K8LhoGSTj3W",
        "colab_type": "code",
        "outputId": "a3f209f5-0431-41e3-df49-bd4913468d60",
        "colab": {
          "base_uri": "https://localhost:8080/",
          "height": 34
        }
      },
      "source": [
        "xtrain.max(),xtrain.min()"
      ],
      "execution_count": 0,
      "outputs": [
        {
          "output_type": "execute_result",
          "data": {
            "text/plain": [
              "(1.0, 0.0)"
            ]
          },
          "metadata": {
            "tags": []
          },
          "execution_count": 10
        }
      ]
    },
    {
      "cell_type": "code",
      "metadata": {
        "id": "emdJJzgWreqr",
        "colab_type": "code",
        "outputId": "51695ec5-dc50-4cb4-d381-f9b4963dda9a",
        "colab": {
          "base_uri": "https://localhost:8080/",
          "height": 34
        }
      },
      "source": [
        "ytrain.shape"
      ],
      "execution_count": 0,
      "outputs": [
        {
          "output_type": "execute_result",
          "data": {
            "text/plain": [
              "(60000,)"
            ]
          },
          "metadata": {
            "tags": []
          },
          "execution_count": 70
        }
      ]
    },
    {
      "cell_type": "code",
      "metadata": {
        "id": "TSU4Em54TnNs",
        "colab_type": "code",
        "outputId": "c8321752-602d-4f97-f240-dbaf2a14de62",
        "colab": {
          "base_uri": "https://localhost:8080/",
          "height": 34
        }
      },
      "source": [
        "xtrain.shape\n",
        "\n",
        "#This input is okay for ANN operation, but for CNN operation, CNN expects a 3D input\n",
        "#in the shape if NxHxWxC"
      ],
      "execution_count": 0,
      "outputs": [
        {
          "output_type": "execute_result",
          "data": {
            "text/plain": [
              "(60000, 28, 28)"
            ]
          },
          "metadata": {
            "tags": []
          },
          "execution_count": 13
        }
      ]
    },
    {
      "cell_type": "code",
      "metadata": {
        "id": "_bZOZFKBULTe",
        "colab_type": "code",
        "outputId": "411d7f43-f6b0-43e2-b76e-dd43f30302b7",
        "colab": {
          "base_uri": "https://localhost:8080/",
          "height": 34
        }
      },
      "source": [
        "# the data is only 2D!\n",
        "# convolution expects height x width x color\n",
        "xtrain = np.expand_dims(xtrain, -1)\n",
        "xtest = np.expand_dims(xtest, -1)\n",
        "print(xtrain.shape)"
      ],
      "execution_count": 0,
      "outputs": [
        {
          "output_type": "stream",
          "text": [
            "(60000, 28, 28, 1)\n"
          ],
          "name": "stdout"
        }
      ]
    },
    {
      "cell_type": "markdown",
      "metadata": {
        "id": "FiY4pqu_YHCo",
        "colab_type": "text"
      },
      "source": [
        "# Step 3 : Building CNN model"
      ]
    },
    {
      "cell_type": "code",
      "metadata": {
        "id": "fuvkJBRjU68B",
        "colab_type": "code",
        "colab": {}
      },
      "source": [
        "# Build the model using the functional API\n",
        "i= Input(shape=xtrain[0].shape)\n",
        "x=Conv2D(32,(3,3),strides=2,activation='relu',padding='same')(i)\n",
        "x=Conv2D(64,(3,3),strides=2,activation='relu',padding='same')(x)\n",
        "x=Conv2D(128,(3,3),strides=2,activation='relu',padding='same')(x)\n",
        "x=Flatten()(x)\n",
        "x=Dropout(0.2)(x)\n",
        "x=Dense(512,activation='relu')(x)\n",
        "x=Dropout(0.2)(x)\n",
        "x=Dense(10,activation='softmax')(x)\n",
        "\n",
        "model=Model(i,x) #1st arguments is a single input/inputs and 2nd argument is list of single output/outputs"
      ],
      "execution_count": 0,
      "outputs": []
    },
    {
      "cell_type": "code",
      "metadata": {
        "id": "lnSS-oEOXAbC",
        "colab_type": "code",
        "outputId": "092fe3ea-1ff2-44b4-ab0b-08443bf0246b",
        "colab": {
          "base_uri": "https://localhost:8080/",
          "height": 459
        }
      },
      "source": [
        "model.summary()"
      ],
      "execution_count": 0,
      "outputs": [
        {
          "output_type": "stream",
          "text": [
            "Model: \"model\"\n",
            "_________________________________________________________________\n",
            "Layer (type)                 Output Shape              Param #   \n",
            "=================================================================\n",
            "input_3 (InputLayer)         [(None, 28, 28, 1)]       0         \n",
            "_________________________________________________________________\n",
            "conv2d_6 (Conv2D)            (None, 14, 14, 32)        320       \n",
            "_________________________________________________________________\n",
            "conv2d_7 (Conv2D)            (None, 7, 7, 64)          18496     \n",
            "_________________________________________________________________\n",
            "conv2d_8 (Conv2D)            (None, 4, 4, 128)         73856     \n",
            "_________________________________________________________________\n",
            "flatten_2 (Flatten)          (None, 2048)              0         \n",
            "_________________________________________________________________\n",
            "dropout_4 (Dropout)          (None, 2048)              0         \n",
            "_________________________________________________________________\n",
            "dense_4 (Dense)              (None, 512)               1049088   \n",
            "_________________________________________________________________\n",
            "dropout_5 (Dropout)          (None, 512)               0         \n",
            "_________________________________________________________________\n",
            "dense_5 (Dense)              (None, 10)                5130      \n",
            "=================================================================\n",
            "Total params: 1,146,890\n",
            "Trainable params: 1,146,890\n",
            "Non-trainable params: 0\n",
            "_________________________________________________________________\n"
          ],
          "name": "stdout"
        }
      ]
    },
    {
      "cell_type": "code",
      "metadata": {
        "id": "nLnimq2JXRad",
        "colab_type": "code",
        "colab": {}
      },
      "source": [
        "# Compile and fit\n",
        "# Note: make sure you are using the GPU for this!\n",
        "model.compile(optimizer='adam',\n",
        "              loss='sparse_categorical_crossentropy',\n",
        "              metrics=['accuracy'])"
      ],
      "execution_count": 0,
      "outputs": []
    },
    {
      "cell_type": "code",
      "metadata": {
        "id": "_KJQeAbnXhwc",
        "colab_type": "code",
        "outputId": "84279c36-cc51-44b9-f4be-0d4431fd8df4",
        "colab": {
          "base_uri": "https://localhost:8080/",
          "height": 544
        }
      },
      "source": [
        "r=model.fit(xtrain,ytrain,epochs=15,validation_data=(xtest,ytest))"
      ],
      "execution_count": 0,
      "outputs": [
        {
          "output_type": "stream",
          "text": [
            "Train on 60000 samples, validate on 10000 samples\n",
            "Epoch 1/15\n",
            "60000/60000 [==============================] - 54s 906us/sample - loss: 0.4361 - accuracy: 0.8421 - val_loss: 0.3266 - val_accuracy: 0.8807\n",
            "Epoch 2/15\n",
            "60000/60000 [==============================] - 53s 882us/sample - loss: 0.2897 - accuracy: 0.8924 - val_loss: 0.2808 - val_accuracy: 0.8948\n",
            "Epoch 3/15\n",
            "60000/60000 [==============================] - 53s 876us/sample - loss: 0.2430 - accuracy: 0.9086 - val_loss: 0.2702 - val_accuracy: 0.8992\n",
            "Epoch 4/15\n",
            "60000/60000 [==============================] - 53s 877us/sample - loss: 0.2111 - accuracy: 0.9208 - val_loss: 0.2496 - val_accuracy: 0.9084\n",
            "Epoch 5/15\n",
            "60000/60000 [==============================] - 53s 878us/sample - loss: 0.1873 - accuracy: 0.9292 - val_loss: 0.2497 - val_accuracy: 0.9131\n",
            "Epoch 6/15\n",
            "60000/60000 [==============================] - 55s 910us/sample - loss: 0.1640 - accuracy: 0.9379 - val_loss: 0.2576 - val_accuracy: 0.9116\n",
            "Epoch 7/15\n",
            "60000/60000 [==============================] - 53s 878us/sample - loss: 0.1453 - accuracy: 0.9456 - val_loss: 0.2615 - val_accuracy: 0.9193\n",
            "Epoch 8/15\n",
            "60000/60000 [==============================] - 52s 871us/sample - loss: 0.1293 - accuracy: 0.9517 - val_loss: 0.2718 - val_accuracy: 0.9170\n",
            "Epoch 9/15\n",
            "60000/60000 [==============================] - 52s 867us/sample - loss: 0.1138 - accuracy: 0.9570 - val_loss: 0.2898 - val_accuracy: 0.9142\n",
            "Epoch 10/15\n",
            "60000/60000 [==============================] - 52s 867us/sample - loss: 0.1054 - accuracy: 0.9606 - val_loss: 0.2824 - val_accuracy: 0.9185\n",
            "Epoch 11/15\n",
            "60000/60000 [==============================] - 52s 867us/sample - loss: 0.0919 - accuracy: 0.9654 - val_loss: 0.3235 - val_accuracy: 0.9169\n",
            "Epoch 12/15\n",
            "60000/60000 [==============================] - 52s 866us/sample - loss: 0.0846 - accuracy: 0.9676 - val_loss: 0.3409 - val_accuracy: 0.9167\n",
            "Epoch 13/15\n",
            "60000/60000 [==============================] - 52s 871us/sample - loss: 0.0774 - accuracy: 0.9714 - val_loss: 0.3362 - val_accuracy: 0.9193\n",
            "Epoch 14/15\n",
            "60000/60000 [==============================] - 52s 868us/sample - loss: 0.0715 - accuracy: 0.9736 - val_loss: 0.3500 - val_accuracy: 0.9205\n",
            "Epoch 15/15\n",
            "60000/60000 [==============================] - 52s 866us/sample - loss: 0.0653 - accuracy: 0.9754 - val_loss: 0.3460 - val_accuracy: 0.9214\n"
          ],
          "name": "stdout"
        }
      ]
    },
    {
      "cell_type": "markdown",
      "metadata": {
        "id": "ogLvAtu0ZCxp",
        "colab_type": "text"
      },
      "source": [
        "# Step 4 : Model Prediction"
      ]
    },
    {
      "cell_type": "code",
      "metadata": {
        "id": "boRLElfJXyrZ",
        "colab_type": "code",
        "colab": {}
      },
      "source": [
        "ypred = model.predict(xtest)"
      ],
      "execution_count": 0,
      "outputs": []
    },
    {
      "cell_type": "markdown",
      "metadata": {
        "id": "064xOekldjqn",
        "colab_type": "text"
      },
      "source": [
        "\n",
        "The predict_classes method is only available for the Sequential class (which is the class of your first model) but not for the Model class (the class of your second model).\n",
        "\n",
        "With the Model class, you can use the predict method which will give you a vector of probabilities and then get the argmax of this vector (with np.argmax(y_pred1,axis=1))."
      ]
    },
    {
      "cell_type": "code",
      "metadata": {
        "id": "pVgFGJ-Ic9Cm",
        "colab_type": "code",
        "colab": {}
      },
      "source": [
        "#ypred=np.argmax(ypred,axis=1)\n"
      ],
      "execution_count": 0,
      "outputs": []
    },
    {
      "cell_type": "code",
      "metadata": {
        "id": "6XbwmYNXdLOM",
        "colab_type": "code",
        "outputId": "c3457395-d9ce-448e-d9ec-16244fad5134",
        "colab": {
          "base_uri": "https://localhost:8080/",
          "height": 34
        }
      },
      "source": [
        "print(ypred)"
      ],
      "execution_count": 0,
      "outputs": [
        {
          "output_type": "stream",
          "text": [
            "[9 2 1 ... 8 1 5]\n"
          ],
          "name": "stdout"
        }
      ]
    },
    {
      "cell_type": "code",
      "metadata": {
        "id": "6mbJp9V3ZMYn",
        "colab_type": "code",
        "outputId": "d946d781-6e78-4287-9642-5bbad95d0802",
        "colab": {
          "base_uri": "https://localhost:8080/",
          "height": 34
        }
      },
      "source": [
        "print(ypred[10],ytest[10])"
      ],
      "execution_count": 0,
      "outputs": [
        {
          "output_type": "stream",
          "text": [
            "4 4\n"
          ],
          "name": "stdout"
        }
      ]
    },
    {
      "cell_type": "markdown",
      "metadata": {
        "id": "alXebAfRaPfF",
        "colab_type": "text"
      },
      "source": [
        "# Step 5 : Model Evaluation"
      ]
    },
    {
      "cell_type": "code",
      "metadata": {
        "id": "5NqZ_ZfoZQMf",
        "colab_type": "code",
        "outputId": "c1d5d34c-cac5-4ff6-9a7b-6a93114a38fd",
        "colab": {
          "base_uri": "https://localhost:8080/",
          "height": 204
        }
      },
      "source": [
        "from sklearn.metrics import confusion_matrix, accuracy_score\n",
        "\n",
        "cm=confusion_matrix(ypred,ytest)\n",
        "print(cm)\n",
        "\n",
        "print(accuracy_score(ypred,ytest))"
      ],
      "execution_count": 0,
      "outputs": [
        {
          "output_type": "stream",
          "text": [
            "[[898   1  20  11   3   0 118   0   5   0]\n",
            " [  0 986   1   1   1   0   2   0   1   0]\n",
            " [ 14   0 869   6  41   0  54   0   3   1]\n",
            " [ 17   7  10 926  12   0  21   0   3   0]\n",
            " [  0   4  48  38 888   0  49   0   3   0]\n",
            " [  1   0   0   0   0 978   0   4   2   4]\n",
            " [ 64   1  52  15  55   0 748   0   2   0]\n",
            " [  0   0   0   0   0  14   0 978   3  30]\n",
            " [  6   1   0   3   0   0   8   0 978   0]\n",
            " [  0   0   0   0   0   8   0  18   0 965]]\n",
            "0.9214\n"
          ],
          "name": "stdout"
        }
      ]
    },
    {
      "cell_type": "code",
      "metadata": {
        "id": "qkP3sLwYaOET",
        "colab_type": "code",
        "outputId": "6351de8b-04b5-4cad-fed7-b536be85c931",
        "colab": {
          "base_uri": "https://localhost:8080/",
          "height": 284
        }
      },
      "source": [
        "# Plot loss per iteration\n",
        "import matplotlib.pyplot as plt\n",
        "plt.plot(r.history['loss'], label='Train loss')\n",
        "plt.plot(r.history['val_loss'], label='Test val_loss')\n",
        "plt.legend()"
      ],
      "execution_count": 0,
      "outputs": [
        {
          "output_type": "execute_result",
          "data": {
            "text/plain": [
              "<matplotlib.legend.Legend at 0x7fbd48479f60>"
            ]
          },
          "metadata": {
            "tags": []
          },
          "execution_count": 34
        },
        {
          "output_type": "display_data",
          "data": {
            "image/png": "[encoded data removed]",
            "text/plain": [
              "<Figure size 432x288 with 1 Axes>"
            ]
          },
          "metadata": {
            "tags": [],
            "needs_background": "light"
          }
        }
      ]
    },
    {
      "cell_type": "code",
      "metadata": {
        "id": "7rz5gIpSaV32",
        "colab_type": "code",
        "outputId": "75cc68ee-2271-45df-ae87-b8941fdb5464",
        "colab": {
          "base_uri": "https://localhost:8080/",
          "height": 283
        }
      },
      "source": [
        "# Plot loss per iteration\n",
        "import matplotlib.pyplot as plt\n",
        "plt.plot(r.history['accuracy'], label='Training accuracy')\n",
        "plt.plot(r.history['val_accuracy'], label=' Test accuracy')\n",
        "plt.legend()"
      ],
      "execution_count": 0,
      "outputs": [
        {
          "output_type": "execute_result",
          "data": {
            "text/plain": [
              "<matplotlib.legend.Legend at 0x7fbd4181b828>"
            ]
          },
          "metadata": {
            "tags": []
          },
          "execution_count": 35
        },
        {
          "output_type": "display_data",
          "data": {
            "image/png": "[encoded data removed]",
            "text/plain": [
              "<Figure size 432x288 with 1 Axes>"
            ]
          },
          "metadata": {
            "tags": [],
            "needs_background": "light"
          }
        }
      ]
    },
    {
      "cell_type": "code",
      "metadata": {
        "id": "vaZG29ZibqM2",
        "colab_type": "code",
        "outputId": "4568c1e3-d71f-49c6-a58c-bff1894d6338",
        "colab": {
          "base_uri": "https://localhost:8080/",
          "height": 498
        }
      },
      "source": [
        "# Plot confusion matrix\n",
        "from sklearn.metrics import confusion_matrix\n",
        "import itertools\n",
        "\n",
        "def plot_confusion_matrix(cm, classes,\n",
        "                          normalize=False,\n",
        "                          title='Confusion matrix',\n",
        "                          cmap=plt.cm.Blues):\n",
        "  \"\"\"\n",
        "  This function prints and plots the confusion matrix.\n",
        "  Normalization can be applied by setting `normalize=True`.\n",
        "  \"\"\"\n",
        "  if normalize:\n",
        "      cm = cm.astype('float') / cm.sum(axis=1)[:, np.newaxis]\n",
        "      print(\"Normalized confusion matrix\")\n",
        "  else:\n",
        "      print('Confusion matrix, without normalization')\n",
        "\n",
        "  print(cm)\n",
        "\n",
        "  plt.imshow(cm, interpolation='nearest', cmap=cmap)\n",
        "  plt.title(title)\n",
        "  plt.colorbar()\n",
        "  tick_marks = np.arange(len(classes))\n",
        "  plt.xticks(tick_marks, classes, rotation=45)\n",
        "  plt.yticks(tick_marks, classes)\n",
        "\n",
        "  fmt = '.2f' if normalize else 'd'\n",
        "  thresh = cm.max() / 2.\n",
        "  for i, j in itertools.product(range(cm.shape[0]), range(cm.shape[1])):\n",
        "      plt.text(j, i, format(cm[i, j], fmt),\n",
        "               horizontalalignment=\"center\",\n",
        "               color=\"white\" if cm[i, j] > thresh else \"black\")\n",
        "\n",
        "  plt.tight_layout()\n",
        "  plt.ylabel('True label')\n",
        "  plt.xlabel('Predicted label')\n",
        "  plt.show()\n",
        "\n",
        "\n",
        "p_test = model.predict(xtest).argmax(axis=1)\n",
        "cm = confusion_matrix(ytest, p_test)\n",
        "plot_confusion_matrix(cm, list(range(10)))\n"
      ],
      "execution_count": 0,
      "outputs": [
        {
          "output_type": "stream",
          "text": [
            "Confusion matrix, without normalization\n",
            "[[898   0  14  17   0   1  64   0   6   0]\n",
            " [  1 986   0   7   4   0   1   0   1   0]\n",
            " [ 20   1 869  10  48   0  52   0   0   0]\n",
            " [ 11   1   6 926  38   0  15   0   3   0]\n",
            " [  3   1  41  12 888   0  55   0   0   0]\n",
            " [  0   0   0   0   0 978   0  14   0   8]\n",
            " [118   2  54  21  49   0 748   0   8   0]\n",
            " [  0   0   0   0   0   4   0 978   0  18]\n",
            " [  5   1   3   3   3   2   2   3 978   0]\n",
            " [  0   0   1   0   0   4   0  30   0 965]]\n"
          ],
          "name": "stdout"
        },
        {
          "output_type": "display_data",
          "data": {
            "image/png": "[encoded data removed]",
            "text/plain": [
              "<Figure size 432x288 with 2 Axes>"
            ]
          },
          "metadata": {
            "tags": [],
            "needs_background": "light"
          }
        }
      ]
    },
    {
      "cell_type": "code",
      "metadata": {
        "id": "Guw9WxiehXhc",
        "colab_type": "code",
        "outputId": "b5df1cf2-09dd-4036-bb90-9060dc563426",
        "colab": {
          "base_uri": "https://localhost:8080/",
          "height": 34
        }
      },
      "source": [
        "print(class_names)"
      ],
      "execution_count": 0,
      "outputs": [
        {
          "output_type": "stream",
          "text": [
            "['0 Top/T-shirt', '1 Trouser', '2 Pullover', '3 Dress', '4 Coat', '5 Sandal', '6 Shirt', '7 Sneaker', '8 Bag', '9 Ankle boot']\n"
          ],
          "name": "stdout"
        }
      ]
    },
    {
      "cell_type": "code",
      "metadata": {
        "id": "aNaWAJUzb2tI",
        "colab_type": "code",
        "colab": {}
      },
      "source": [
        "# Label mapping\n",
        "labels = '''T-shirt/top\n",
        "Trouser\n",
        "Pullover\n",
        "Dress\n",
        "Coat\n",
        "Sandal\n",
        "Shirt\n",
        "Sneaker\n",
        "Bag\n",
        "Ankle boot'''.split(\"\\n\")"
      ],
      "execution_count": 0,
      "outputs": []
    },
    {
      "cell_type": "code",
      "metadata": {
        "id": "LNJMGFvMb77q",
        "colab_type": "code",
        "outputId": "e2ec1ee3-1732-43da-b165-793cb1562bb0",
        "colab": {
          "base_uri": "https://localhost:8080/",
          "height": 281
        }
      },
      "source": [
        "# Show some misclassified examples\n",
        "misclassified_idx = np.where(p_test != ytest)[0]\n",
        "i = np.random.choice(misclassified_idx)\n",
        "plt.imshow(xtest[i].reshape(28,28), cmap='gray')\n",
        "plt.title(\"True label: %s Predicted: %s\" % (labels[ytest[i]], labels[p_test[i]]));"
      ],
      "execution_count": 0,
      "outputs": [
        {
          "output_type": "display_data",
          "data": {
            "image/png": "[encoded data removed]",
            "text/plain": [
              "<Figure size 432x288 with 1 Axes>"
            ]
          },
          "metadata": {
            "tags": [],
            "needs_background": "light"
          }
        }
      ]
    },
    {
      "cell_type": "code",
      "metadata": {
        "id": "YHoByaUmb9o3",
        "colab_type": "code",
        "colab": {}
      },
      "source": [
        ""
      ],
      "execution_count": 0,
      "outputs": []
    },
    {
      "cell_type": "markdown",
      "metadata": {
        "id": "smmseXXqdnUC",
        "colab_type": "text"
      },
      "source": [
        "# Alternative way of building the model (Sequential way)\n"
      ]
    },
    {
      "cell_type": "code",
      "metadata": {
        "id": "uaorf_j6dqUc",
        "colab_type": "code",
        "outputId": "9beee756-c297-45c5-a70d-ca9ba462e814",
        "colab": {
          "base_uri": "https://localhost:8080/",
          "height": 34
        }
      },
      "source": [
        "xtrain.shape"
      ],
      "execution_count": 0,
      "outputs": [
        {
          "output_type": "execute_result",
          "data": {
            "text/plain": [
              "(60000, 28, 28, 1)"
            ]
          },
          "metadata": {
            "tags": []
          },
          "execution_count": 52
        }
      ]
    },
    {
      "cell_type": "code",
      "metadata": {
        "id": "IVJjLMLydsqU",
        "colab_type": "code",
        "colab": {}
      },
      "source": [
        "model1=tf.keras.models.Sequential([\n",
        "       tf.keras.layers.Conv2D(32,(3,3),strides=2,activation='relu',input_shape=[28, 28, 1]),\n",
        "       tf.keras.layers.Conv2D(64,(3,3),strides=2,activation='relu'),\n",
        "       tf.keras.layers.Conv2D(128,(3,3),strides=2,activation='relu'),\n",
        "       tf.keras.layers.Flatten(),\n",
        "       tf.keras.layers.Dropout(0.2),\n",
        "       tf.keras.layers.Dense(512,activation='relu'),\n",
        "       tf.keras.layers.Dropout(0.2),\n",
        "       tf.keras.layers.Dense(10,activation='softmax')                       \n",
        "                                                      ])"
      ],
      "execution_count": 0,
      "outputs": []
    },
    {
      "cell_type": "code",
      "metadata": {
        "id": "Wh_6YOwEfERM",
        "colab_type": "code",
        "outputId": "ffbcae82-1ecc-45a6-e902-04ac04f897df",
        "colab": {
          "base_uri": "https://localhost:8080/",
          "height": 425
        }
      },
      "source": [
        "model1.summary()"
      ],
      "execution_count": 0,
      "outputs": [
        {
          "output_type": "stream",
          "text": [
            "Model: \"sequential\"\n",
            "_________________________________________________________________\n",
            "Layer (type)                 Output Shape              Param #   \n",
            "=================================================================\n",
            "conv2d_9 (Conv2D)            (None, 13, 13, 32)        320       \n",
            "_________________________________________________________________\n",
            "conv2d_10 (Conv2D)           (None, 6, 6, 64)          18496     \n",
            "_________________________________________________________________\n",
            "conv2d_11 (Conv2D)           (None, 2, 2, 128)         73856     \n",
            "_________________________________________________________________\n",
            "flatten_3 (Flatten)          (None, 512)               0         \n",
            "_________________________________________________________________\n",
            "dropout_6 (Dropout)          (None, 512)               0         \n",
            "_________________________________________________________________\n",
            "dense_6 (Dense)              (None, 512)               262656    \n",
            "_________________________________________________________________\n",
            "dropout_7 (Dropout)          (None, 512)               0         \n",
            "_________________________________________________________________\n",
            "dense_7 (Dense)              (None, 10)                5130      \n",
            "=================================================================\n",
            "Total params: 360,458\n",
            "Trainable params: 360,458\n",
            "Non-trainable params: 0\n",
            "_________________________________________________________________\n"
          ],
          "name": "stdout"
        }
      ]
    },
    {
      "cell_type": "code",
      "metadata": {
        "id": "1G0LhZxxfUy-",
        "colab_type": "code",
        "colab": {}
      },
      "source": [
        "model1.compile(optimizer='adam',\n",
        "              loss='sparse_categorical_crossentropy',\n",
        "              metrics=['accuracy'])"
      ],
      "execution_count": 0,
      "outputs": []
    },
    {
      "cell_type": "code",
      "metadata": {
        "id": "LQH85y68ffPe",
        "colab_type": "code",
        "outputId": "7d051ebd-5ca2-44e3-cb34-239a1d8966af",
        "colab": {
          "base_uri": "https://localhost:8080/",
          "height": 544
        }
      },
      "source": [
        "zz=model1.fit(xtest,ytest,epochs=15,validation_data=(xtest,ytest))"
      ],
      "execution_count": 0,
      "outputs": [
        {
          "output_type": "stream",
          "text": [
            "Train on 10000 samples, validate on 10000 samples\n",
            "Epoch 1/15\n",
            "10000/10000 [==============================] - 6s 627us/sample - loss: 0.8135 - accuracy: 0.7035 - val_loss: 0.5389 - val_accuracy: 0.7987\n",
            "Epoch 2/15\n",
            "10000/10000 [==============================] - 6s 581us/sample - loss: 0.5378 - accuracy: 0.7986 - val_loss: 0.4345 - val_accuracy: 0.8391\n",
            "Epoch 3/15\n",
            "10000/10000 [==============================] - 6s 581us/sample - loss: 0.4658 - accuracy: 0.8236 - val_loss: 0.3871 - val_accuracy: 0.8532\n",
            "Epoch 4/15\n",
            "10000/10000 [==============================] - 6s 588us/sample - loss: 0.4181 - accuracy: 0.8405 - val_loss: 0.3643 - val_accuracy: 0.8584\n",
            "Epoch 5/15\n",
            "10000/10000 [==============================] - 6s 594us/sample - loss: 0.3786 - accuracy: 0.8591 - val_loss: 0.2998 - val_accuracy: 0.8881\n",
            "Epoch 6/15\n",
            "10000/10000 [==============================] - 6s 597us/sample - loss: 0.3462 - accuracy: 0.8680 - val_loss: 0.2876 - val_accuracy: 0.8895\n",
            "Epoch 7/15\n",
            "10000/10000 [==============================] - 6s 595us/sample - loss: 0.3071 - accuracy: 0.8824 - val_loss: 0.2507 - val_accuracy: 0.9103\n",
            "Epoch 8/15\n",
            "10000/10000 [==============================] - 6s 597us/sample - loss: 0.2772 - accuracy: 0.8957 - val_loss: 0.2079 - val_accuracy: 0.9233\n",
            "Epoch 9/15\n",
            "10000/10000 [==============================] - 6s 593us/sample - loss: 0.2510 - accuracy: 0.9010 - val_loss: 0.2037 - val_accuracy: 0.9244\n",
            "Epoch 10/15\n",
            "10000/10000 [==============================] - 8s 843us/sample - loss: 0.2268 - accuracy: 0.9144 - val_loss: 0.1744 - val_accuracy: 0.9392\n",
            "Epoch 11/15\n",
            "10000/10000 [==============================] - 6s 595us/sample - loss: 0.2029 - accuracy: 0.9239 - val_loss: 0.1446 - val_accuracy: 0.9490\n",
            "Epoch 12/15\n",
            "10000/10000 [==============================] - 6s 604us/sample - loss: 0.1820 - accuracy: 0.9329 - val_loss: 0.1218 - val_accuracy: 0.9607\n",
            "Epoch 13/15\n",
            "10000/10000 [==============================] - 6s 603us/sample - loss: 0.1663 - accuracy: 0.9390 - val_loss: 0.1055 - val_accuracy: 0.9641\n",
            "Epoch 14/15\n",
            "10000/10000 [==============================] - 6s 595us/sample - loss: 0.1474 - accuracy: 0.9447 - val_loss: 0.1014 - val_accuracy: 0.9631\n",
            "Epoch 15/15\n",
            "10000/10000 [==============================] - 6s 596us/sample - loss: 0.1346 - accuracy: 0.9480 - val_loss: 0.0778 - val_accuracy: 0.9760\n"
          ],
          "name": "stdout"
        }
      ]
    },
    {
      "cell_type": "code",
      "metadata": {
        "id": "RBsEF6Wrfqxy",
        "colab_type": "code",
        "colab": {}
      },
      "source": [
        "ypred2=model1.predict_classes(xtest)"
      ],
      "execution_count": 0,
      "outputs": []
    },
    {
      "cell_type": "code",
      "metadata": {
        "id": "0TGUOqVUgGyw",
        "colab_type": "code",
        "outputId": "5bb044f7-b9e2-4a4f-9be9-05a19b1d0018",
        "colab": {
          "base_uri": "https://localhost:8080/",
          "height": 34
        }
      },
      "source": [
        "print(ypred[2],ytest[2])"
      ],
      "execution_count": 0,
      "outputs": [
        {
          "output_type": "stream",
          "text": [
            "1 1\n"
          ],
          "name": "stdout"
        }
      ]
    },
    {
      "cell_type": "code",
      "metadata": {
        "id": "TSGWfmdcg3iT",
        "colab_type": "code",
        "outputId": "99324cae-ad6f-46be-e9c1-a3f599431223",
        "colab": {
          "base_uri": "https://localhost:8080/",
          "height": 204
        }
      },
      "source": [
        "cm1=confusion_matrix(ypred2,ytest)\n",
        "print(cm1)\n",
        "\n",
        "print(accuracy_score(ypred2,ytest))"
      ],
      "execution_count": 0,
      "outputs": [
        {
          "output_type": "stream",
          "text": [
            "[[ 969    0    2    3    0    0   20    0    0    0]\n",
            " [   0  993    0    0    0    0    0    0    0    0]\n",
            " [  11    0  977    4   36    0   48    0    0    0]\n",
            " [   2    5    1  979    6    0    6    0    0    0]\n",
            " [   0    0    8   10  943    0   16    0    2    0]\n",
            " [   0    0    0    0    0 1000    0    2    0    0]\n",
            " [  18    2   11    4   15    0  908    0    0    0]\n",
            " [   0    0    0    0    0    0    0  993    0    0]\n",
            " [   0    0    1    0    0    0    2    0  998    0]\n",
            " [   0    0    0    0    0    0    0    5    0 1000]]\n",
            "0.976\n"
          ],
          "name": "stdout"
        }
      ]
    },
    {
      "cell_type": "code",
      "metadata": {
        "id": "bUDEw7ylg_TH",
        "colab_type": "code",
        "outputId": "36b91593-7060-4a89-d0c2-1cf849eb1cfa",
        "colab": {
          "base_uri": "https://localhost:8080/",
          "height": 282
        }
      },
      "source": [
        "# Plot loss per iteration\n",
        "import matplotlib.pyplot as plt\n",
        "plt.plot(zz.history['accuracy'], label='Training accuracy')\n",
        "plt.plot(zz.history['val_accuracy'], label=' Test accuracy')\n",
        "plt.legend()"
      ],
      "execution_count": 0,
      "outputs": [
        {
          "output_type": "execute_result",
          "data": {
            "text/plain": [
              "<matplotlib.legend.Legend at 0x7fbd3ea25860>"
            ]
          },
          "metadata": {
            "tags": []
          },
          "execution_count": 66
        },
        {
          "output_type": "display_data",
          "data": {
            "image/png": "[encoded data removed]",
            "text/plain": [
              "<Figure size 432x288 with 1 Axes>"
            ]
          },
          "metadata": {
            "tags": [],
            "needs_background": "light"
          }
        }
      ]
    },
    {
      "cell_type": "code",
      "metadata": {
        "id": "kgYq3orvhIyi",
        "colab_type": "code",
        "outputId": "ed2f3a59-19ae-4cf0-d6b3-288290829807",
        "colab": {
          "base_uri": "https://localhost:8080/",
          "height": 282
        }
      },
      "source": [
        "# Plot loss per iteration\n",
        "import matplotlib.pyplot as plt\n",
        "plt.plot(zz.history['loss'], label='Training loss')\n",
        "plt.plot(zz.history['val_loss'], label=' Test loss')\n",
        "plt.legend()"
      ],
      "execution_count": 0,
      "outputs": [
        {
          "output_type": "execute_result",
          "data": {
            "text/plain": [
              "<matplotlib.legend.Legend at 0x7fbd3f61a3c8>"
            ]
          },
          "metadata": {
            "tags": []
          },
          "execution_count": 67
        },
        {
          "output_type": "display_data",
          "data": {
            "image/png": "[encoded data removed]",
            "text/plain": [
              "<Figure size 432x288 with 1 Axes>"
            ]
          },
          "metadata": {
            "tags": [],
            "needs_background": "light"
          }
        }
      ]
    }
  ]
}